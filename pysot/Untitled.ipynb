{
 "cells": [
  {
   "cell_type": "code",
   "execution_count": 6,
   "metadata": {},
   "outputs": [],
   "source": [
    "# import the necessary packages\n",
    "from sklearn.neighbors import KNeighborsClassifier\n",
    "from sklearn.model_selection import train_test_split\n",
    "import numpy as np\n",
    "import argparse\n",
    "import os"
   ]
  },
  {
   "cell_type": "code",
   "execution_count": 7,
   "metadata": {},
   "outputs": [
    {
     "data": {
      "text/plain": [
       "environ({'TMPDIR': '/var/folders/4y/j3mj9z697tnfbncz3rs8hsbh0000gn/T/', 'XPC_FLAGS': '0x0', 'Apple_PubSub_Socket_Render': '/private/tmp/com.apple.launchd.0M0TGsWW8h/Render', 'TERM_PROGRAM_VERSION': '421.1.1', 'LANG': 'de_DE.UTF-8', 'TERM_PROGRAM': 'Apple_Terminal', 'XPC_SERVICE_NAME': '0', 'TERM_SESSION_ID': 'D60317FF-B6ED-44DC-A99E-4229EF9A8BDE', 'SSH_AUTH_SOCK': '/private/tmp/com.apple.launchd.JlnvCl8vHC/Listeners', 'TERM': 'xterm-color', 'SHELL': '/bin/zsh', 'HOME': '/Users/aussabbood', 'LOGNAME': 'aussabbood', 'USER': 'aussabbood', 'PATH': '/anaconda3/bin:/anaconda3/envs/pysot/bin:/anaconda3/condabin:/usr/local/opt/ruby/bin:/anaconda3/bin:/usr/local/bin:/usr/bin:/bin:/usr/sbin:/sbin:/Library/TeX/texbin:/Library/Frameworks/Mono.framework/Versions/Current/Commands', 'SHLVL': '1', 'PWD': '/Users/aussabbood/github/pysot', 'OLDPWD': '/Users/aussabbood/github', 'ZSH': '/Users/aussabbood/.oh-my-zsh', 'PAGER': 'cat', 'LESS': '-R', 'LC_CTYPE': 'de_DE.UTF-8', 'LSCOLORS': 'Gxfxcxdxbxegedabagacad', 'CONDA_EXE': '/anaconda3/bin/conda', 'CONDA_SHLVL': '1', 'CONDA_DEFAULT_ENV': 'pysot', 'CONDA_PREFIX': '/anaconda3/envs/pysot', 'CONDA_PROMPT_MODIFIER': '(pysot) ', 'CONDA_PYTHON_EXE': '/anaconda3/bin/python', 'PYTHONPATH': '/path/to/PySOT:', '_': '/anaconda3/bin/jupyter', 'JPY_PARENT_PID': '93114', 'CLICOLOR': '1', 'GIT_PAGER': 'cat', 'MPLBACKEND': 'module://ipykernel.pylab.backend_inline'})"
      ]
     },
     "execution_count": 7,
     "metadata": {},
     "output_type": "execute_result"
    }
   ],
   "source": [
    "os.environ"
   ]
  },
  {
   "cell_type": "code",
   "execution_count": null,
   "metadata": {},
   "outputs": [],
   "source": []
  }
 ],
 "metadata": {
  "kernelspec": {
   "display_name": "Python 3",
   "language": "python",
   "name": "python3"
  },
  "language_info": {
   "codemirror_mode": {
    "name": "ipython",
    "version": 3
   },
   "file_extension": ".py",
   "mimetype": "text/x-python",
   "name": "python",
   "nbconvert_exporter": "python",
   "pygments_lexer": "ipython3",
   "version": "3.6.8"
  }
 },
 "nbformat": 4,
 "nbformat_minor": 2
}
